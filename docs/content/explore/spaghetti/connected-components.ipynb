{
 "cells": [
  {
   "cell_type": "markdown",
   "metadata": {},
   "source": [
    "---------------\n",
    "\n",
    "**If any part of this notebook is used in your research, please cite with the reference found in** **[README.md](https://github.com/pysal/spaghetti#bibtex-citation).**\n",
    "\n",
    "\n",
    "----------------\n",
    "\n",
    "## Connected components in a spatial network\n",
    "### Identifying and visualizing the parts of a network\n",
    "\n",
    "**Author: James D. Gaboardi** **<jgaboardi@gmail.com>**\n",
    "\n",
    "**This notebook is a walk-through for:**\n",
    "\n",
    "1. Instantiating a simple network with `libpysal.cg.Chain` objects\n",
    "2. Working with the network components\n",
    "3. Visualizing the components and (non)articulation vertices"
   ]
  },
  {
   "cell_type": "code",
   "execution_count": 1,
   "metadata": {
    "ExecuteTime": {
     "end_time": "2020-01-20T21:02:20.689322Z",
     "start_time": "2020-01-20T21:02:20.255546Z"
    }
   },
   "outputs": [
    {
     "name": "stdout",
     "output_type": "stream",
     "text": [
      "2020-01-20T16:02:20-05:00\n",
      "\n",
      "CPython 3.7.3\n",
      "IPython 7.10.2\n",
      "\n",
      "compiler   : Clang 9.0.0 (tags/RELEASE_900/final)\n",
      "system     : Darwin\n",
      "release    : 19.2.0\n",
      "machine    : x86_64\n",
      "processor  : i386\n",
      "CPU cores  : 4\n",
      "interpreter: 64bit\n"
     ]
    }
   ],
   "source": [
    "%load_ext watermark\n",
    "%watermark"
   ]
  },
  {
   "cell_type": "markdown",
   "metadata": {},
   "source": [
    "**In addtion to the base** **[spaghetti requirements](https://github.com/pysal/spaghetti/blob/master/requirements.txt)** **(and their dependecies), this notebook requires installations of:**\n",
    "\n",
    "* [geopandas](http://geopandas.org)\n",
    "    * `$ conda install -c conda-forge geopandas`\n",
    "* [matplotlib](https://matplotlib.org)\n",
    "    * `$ conda install matplotlib`\n",
    "    \n",
    "-----------------------"
   ]
  },
  {
   "cell_type": "code",
   "execution_count": 2,
   "metadata": {
    "ExecuteTime": {
     "end_time": "2020-01-20T21:02:22.623582Z",
     "start_time": "2020-01-20T21:02:20.700174Z"
    }
   },
   "outputs": [
    {
     "name": "stdout",
     "output_type": "stream",
     "text": [
      "watermark 2.0.2\n",
      "libpysal   4.2.0\n",
      "spaghetti  1.4.0\n",
      "matplotlib 3.1.2\n",
      "geopandas  0.6.2\n",
      "\n"
     ]
    }
   ],
   "source": [
    "import spaghetti\n",
    "import geopandas\n",
    "import libpysal\n",
    "from libpysal.cg import Point, Chain\n",
    "import matplotlib\n",
    "try:\n",
    "    from IPython.display import set_matplotlib_formats\n",
    "    set_matplotlib_formats(\"retina\")\n",
    "except ImportError:\n",
    "    pass\n",
    "%matplotlib inline\n",
    "%watermark -w\n",
    "%watermark -iv"
   ]
  },
  {
   "cell_type": "markdown",
   "metadata": {},
   "source": [
    "----------------\n",
    "\n",
    "### 1. Instantiate a network from two collections of `libpysal.cg.Chain` objects"
   ]
  },
  {
   "cell_type": "code",
   "execution_count": 3,
   "metadata": {
    "ExecuteTime": {
     "end_time": "2020-01-20T21:02:22.665348Z",
     "start_time": "2020-01-20T21:02:22.640337Z"
    }
   },
   "outputs": [],
   "source": [
    "plus1 = [\n",
    "    Chain([Point([1, 2]), Point([0, 2])]),\n",
    "    Chain([Point([1, 2]), Point([1, 1])]),\n",
    "    Chain([Point([1, 2]), Point([1, 3])]),\n",
    "]\n",
    "plus2 = [\n",
    "    Chain([Point([2, 1]), Point([2, 0])]),\n",
    "    Chain([Point([2, 1]), Point([3, 1])]),\n",
    "    Chain([Point([2, 1]), Point([2, 2])]),\n",
    "]\n",
    "lines = plus1 + plus2"
   ]
  },
  {
   "cell_type": "code",
   "execution_count": 4,
   "metadata": {
    "ExecuteTime": {
     "end_time": "2020-01-20T21:02:22.718580Z",
     "start_time": "2020-01-20T21:02:22.695747Z"
    }
   },
   "outputs": [
    {
     "name": "stderr",
     "output_type": "stream",
     "text": [
      "/Users/jgaboardi/miniconda3/envs/py3_spgh_dev/lib/python3.7/site-packages/libpysal/weights/weights.py:167: UserWarning: The weights matrix is not fully connected: \n",
      " There are 2 disconnected components.\n",
      "  warnings.warn(message)\n"
     ]
    }
   ],
   "source": [
    "ntw = spaghetti.Network(in_data=lines)"
   ]
  },
  {
   "cell_type": "markdown",
   "metadata": {},
   "source": [
    "#### Here we get a warning because the network we created has 2 connected components"
   ]
  },
  {
   "cell_type": "code",
   "execution_count": 5,
   "metadata": {
    "ExecuteTime": {
     "end_time": "2020-01-20T21:02:22.764740Z",
     "start_time": "2020-01-20T21:02:22.743576Z"
    }
   },
   "outputs": [
    {
     "data": {
      "text/plain": [
       "2"
      ]
     },
     "execution_count": 5,
     "metadata": {},
     "output_type": "execute_result"
    }
   ],
   "source": [
    "ntw.network_n_components"
   ]
  },
  {
   "cell_type": "markdown",
   "metadata": {},
   "source": [
    "#### The network components can be inspected through the `network_component2arc` attribute"
   ]
  },
  {
   "cell_type": "code",
   "execution_count": 6,
   "metadata": {
    "ExecuteTime": {
     "end_time": "2020-01-20T21:02:22.807831Z",
     "start_time": "2020-01-20T21:02:22.776753Z"
    }
   },
   "outputs": [
    {
     "data": {
      "text/plain": [
       "{0: [(0, 1), (0, 2), (0, 3)], 1: [(4, 5), (4, 6), (4, 7)]}"
      ]
     },
     "execution_count": 6,
     "metadata": {},
     "output_type": "execute_result"
    }
   ],
   "source": [
    "ntw.network_component2arc"
   ]
  },
  {
   "cell_type": "markdown",
   "metadata": {},
   "source": [
    "#### Extract the network arc and vertices as `geopandas.GeoDataFrame` objects"
   ]
  },
  {
   "cell_type": "code",
   "execution_count": 7,
   "metadata": {
    "ExecuteTime": {
     "end_time": "2020-01-20T21:02:22.871263Z",
     "start_time": "2020-01-20T21:02:22.823664Z"
    }
   },
   "outputs": [],
   "source": [
    "# network vertices and arcs\n",
    "vertices_df, arcs_df = spaghetti.element_as_gdf(ntw, vertices=True, arcs=True)"
   ]
  },
  {
   "cell_type": "markdown",
   "metadata": {},
   "source": [
    "#### Network component labels are found in the `\"comp_label\"` field"
   ]
  },
  {
   "cell_type": "code",
   "execution_count": 8,
   "metadata": {
    "ExecuteTime": {
     "end_time": "2020-01-20T21:02:22.915689Z",
     "start_time": "2020-01-20T21:02:22.886619Z"
    }
   },
   "outputs": [
    {
     "data": {
      "text/html": [
       "<div>\n",
       "<style scoped>\n",
       "    .dataframe tbody tr th:only-of-type {\n",
       "        vertical-align: middle;\n",
       "    }\n",
       "\n",
       "    .dataframe tbody tr th {\n",
       "        vertical-align: top;\n",
       "    }\n",
       "\n",
       "    .dataframe thead th {\n",
       "        text-align: right;\n",
       "    }\n",
       "</style>\n",
       "<table border=\"1\" class=\"dataframe\">\n",
       "  <thead>\n",
       "    <tr style=\"text-align: right;\">\n",
       "      <th></th>\n",
       "      <th>id</th>\n",
       "      <th>geometry</th>\n",
       "      <th>comp_label</th>\n",
       "    </tr>\n",
       "  </thead>\n",
       "  <tbody>\n",
       "    <tr>\n",
       "      <th>0</th>\n",
       "      <td>(0, 1)</td>\n",
       "      <td>LINESTRING (1.00000 2.00000, 0.00000 2.00000)</td>\n",
       "      <td>0</td>\n",
       "    </tr>\n",
       "    <tr>\n",
       "      <th>1</th>\n",
       "      <td>(0, 2)</td>\n",
       "      <td>LINESTRING (1.00000 2.00000, 1.00000 1.00000)</td>\n",
       "      <td>0</td>\n",
       "    </tr>\n",
       "    <tr>\n",
       "      <th>2</th>\n",
       "      <td>(0, 3)</td>\n",
       "      <td>LINESTRING (1.00000 2.00000, 1.00000 3.00000)</td>\n",
       "      <td>0</td>\n",
       "    </tr>\n",
       "    <tr>\n",
       "      <th>3</th>\n",
       "      <td>(4, 5)</td>\n",
       "      <td>LINESTRING (2.00000 1.00000, 2.00000 0.00000)</td>\n",
       "      <td>1</td>\n",
       "    </tr>\n",
       "    <tr>\n",
       "      <th>4</th>\n",
       "      <td>(4, 6)</td>\n",
       "      <td>LINESTRING (2.00000 1.00000, 3.00000 1.00000)</td>\n",
       "      <td>1</td>\n",
       "    </tr>\n",
       "    <tr>\n",
       "      <th>5</th>\n",
       "      <td>(4, 7)</td>\n",
       "      <td>LINESTRING (2.00000 1.00000, 2.00000 2.00000)</td>\n",
       "      <td>1</td>\n",
       "    </tr>\n",
       "  </tbody>\n",
       "</table>\n",
       "</div>"
      ],
      "text/plain": [
       "       id                                       geometry  comp_label\n",
       "0  (0, 1)  LINESTRING (1.00000 2.00000, 0.00000 2.00000)           0\n",
       "1  (0, 2)  LINESTRING (1.00000 2.00000, 1.00000 1.00000)           0\n",
       "2  (0, 3)  LINESTRING (1.00000 2.00000, 1.00000 3.00000)           0\n",
       "3  (4, 5)  LINESTRING (2.00000 1.00000, 2.00000 0.00000)           1\n",
       "4  (4, 6)  LINESTRING (2.00000 1.00000, 3.00000 1.00000)           1\n",
       "5  (4, 7)  LINESTRING (2.00000 1.00000, 2.00000 2.00000)           1"
      ]
     },
     "execution_count": 8,
     "metadata": {},
     "output_type": "execute_result"
    }
   ],
   "source": [
    "arcs_df"
   ]
  },
  {
   "cell_type": "markdown",
   "metadata": {},
   "source": [
    "#### Plot the disconnected network and symbolize the arcs bases on the value of `\"comp_label\"`"
   ]
  },
  {
   "cell_type": "code",
   "execution_count": 9,
   "metadata": {
    "ExecuteTime": {
     "end_time": "2020-01-20T21:02:23.304089Z",
     "start_time": "2020-01-20T21:02:22.940178Z"
    }
   },
   "outputs": [
    {
     "data": {
      "image/png": "[encoded data removed]",
      "text/plain": [
       "<Figure size 504x504 with 1 Axes>"
      ]
     },
     "metadata": {
      "needs_background": "light"
     },
     "output_type": "display_data"
    }
   ],
   "source": [
    "base = arcs_df.plot(column=\"comp_label\", cmap=\"Set2\", linewidth=5, figsize=(7, 7))\n",
    "vertices_df.plot(ax=base, color=\"k\", markersize=100, zorder=2);"
   ]
  },
  {
   "cell_type": "markdown",
   "metadata": {
    "ExecuteTime": {
     "end_time": "2020-01-17T02:24:00.431130Z",
     "start_time": "2020-01-17T02:24:00.414100Z"
    }
   },
   "source": [
    "\n",
    "----------------\n",
    "\n",
    "### 2. Add to the network created above"
   ]
  },
  {
   "cell_type": "code",
   "execution_count": 10,
   "metadata": {
    "ExecuteTime": {
     "end_time": "2020-01-20T21:02:23.332643Z",
     "start_time": "2020-01-20T21:02:23.312211Z"
    }
   },
   "outputs": [],
   "source": [
    "new_lines = [\n",
    "    Chain([Point([1, 1]), Point([2, 2])]),\n",
    "    Chain([Point([0.5, 1]), Point([0.5, 0.5])]),\n",
    "    Chain([Point([0.5, 0.5]), Point([1, 0.5])]),\n",
    "    Chain([Point([2, 2.5]), Point([2.5, 2.5])]),\n",
    "    Chain([Point([2.5, 2.5]), Point([2.5, 2])]),\n",
    "]\n",
    "lines += new_lines"
   ]
  },
  {
   "cell_type": "code",
   "execution_count": 11,
   "metadata": {
    "ExecuteTime": {
     "end_time": "2020-01-20T21:02:23.354492Z",
     "start_time": "2020-01-20T21:02:23.341245Z"
    }
   },
   "outputs": [
    {
     "name": "stderr",
     "output_type": "stream",
     "text": [
      "/Users/jgaboardi/miniconda3/envs/py3_spgh_dev/lib/python3.7/site-packages/libpysal/weights/weights.py:167: UserWarning: The weights matrix is not fully connected: \n",
      " There are 3 disconnected components.\n",
      "  warnings.warn(message)\n",
      "/Users/jgaboardi/miniconda3/envs/py3_spgh_dev/lib/python3.7/site-packages/libpysal/weights/weights.py:167: UserWarning: The weights matrix is not fully connected: \n",
      " There are 3 disconnected components.\n",
      " There are 2 islands with ids: (8, 10), (11, 13).\n",
      "  warnings.warn(message)\n"
     ]
    }
   ],
   "source": [
    "ntw = spaghetti.Network(in_data=lines)"
   ]
  },
  {
   "cell_type": "markdown",
   "metadata": {},
   "source": [
    "#### Now there are 3 connected components in the network"
   ]
  },
  {
   "cell_type": "code",
   "execution_count": 12,
   "metadata": {
    "ExecuteTime": {
     "end_time": "2020-01-20T21:02:23.409981Z",
     "start_time": "2020-01-20T21:02:23.379482Z"
    }
   },
   "outputs": [
    {
     "data": {
      "text/plain": [
       "3"
      ]
     },
     "execution_count": 12,
     "metadata": {},
     "output_type": "execute_result"
    }
   ],
   "source": [
    "ntw.network_n_components"
   ]
  },
  {
   "cell_type": "code",
   "execution_count": 13,
   "metadata": {
    "ExecuteTime": {
     "end_time": "2020-01-20T21:02:23.447130Z",
     "start_time": "2020-01-20T21:02:23.419078Z"
    }
   },
   "outputs": [
    {
     "data": {
      "text/plain": [
       "{0: [(0, 1), (0, 2), (0, 3), (2, 7), (4, 5), (4, 6), (4, 7)],\n",
       " 1: [(8, 9), (9, 10)],\n",
       " 2: [(11, 12), (12, 13)]}"
      ]
     },
     "execution_count": 13,
     "metadata": {},
     "output_type": "execute_result"
    }
   ],
   "source": [
    "ntw.network_component2arc"
   ]
  },
  {
   "cell_type": "code",
   "execution_count": 14,
   "metadata": {
    "ExecuteTime": {
     "end_time": "2020-01-20T21:02:23.535347Z",
     "start_time": "2020-01-20T21:02:23.472189Z"
    }
   },
   "outputs": [],
   "source": [
    "# network vertices and arcs\n",
    "vertices_df, arcs_df = spaghetti.element_as_gdf(ntw, vertices=True, arcs=True)"
   ]
  },
  {
   "cell_type": "code",
   "execution_count": 15,
   "metadata": {
    "ExecuteTime": {
     "end_time": "2020-01-20T21:02:23.574683Z",
     "start_time": "2020-01-20T21:02:23.539766Z"
    }
   },
   "outputs": [
    {
     "data": {
      "text/html": [
       "<div>\n",
       "<style scoped>\n",
       "    .dataframe tbody tr th:only-of-type {\n",
       "        vertical-align: middle;\n",
       "    }\n",
       "\n",
       "    .dataframe tbody tr th {\n",
       "        vertical-align: top;\n",
       "    }\n",
       "\n",
       "    .dataframe thead th {\n",
       "        text-align: right;\n",
       "    }\n",
       "</style>\n",
       "<table border=\"1\" class=\"dataframe\">\n",
       "  <thead>\n",
       "    <tr style=\"text-align: right;\">\n",
       "      <th></th>\n",
       "      <th>id</th>\n",
       "      <th>geometry</th>\n",
       "      <th>comp_label</th>\n",
       "    </tr>\n",
       "  </thead>\n",
       "  <tbody>\n",
       "    <tr>\n",
       "      <th>0</th>\n",
       "      <td>(0, 1)</td>\n",
       "      <td>LINESTRING (1.00000 2.00000, 0.00000 2.00000)</td>\n",
       "      <td>0</td>\n",
       "    </tr>\n",
       "    <tr>\n",
       "      <th>1</th>\n",
       "      <td>(0, 2)</td>\n",
       "      <td>LINESTRING (1.00000 2.00000, 1.00000 1.00000)</td>\n",
       "      <td>0</td>\n",
       "    </tr>\n",
       "    <tr>\n",
       "      <th>2</th>\n",
       "      <td>(0, 3)</td>\n",
       "      <td>LINESTRING (1.00000 2.00000, 1.00000 3.00000)</td>\n",
       "      <td>0</td>\n",
       "    </tr>\n",
       "    <tr>\n",
       "      <th>3</th>\n",
       "      <td>(2, 7)</td>\n",
       "      <td>LINESTRING (1.00000 1.00000, 2.00000 2.00000)</td>\n",
       "      <td>0</td>\n",
       "    </tr>\n",
       "    <tr>\n",
       "      <th>4</th>\n",
       "      <td>(4, 5)</td>\n",
       "      <td>LINESTRING (2.00000 1.00000, 2.00000 0.00000)</td>\n",
       "      <td>0</td>\n",
       "    </tr>\n",
       "    <tr>\n",
       "      <th>5</th>\n",
       "      <td>(4, 6)</td>\n",
       "      <td>LINESTRING (2.00000 1.00000, 3.00000 1.00000)</td>\n",
       "      <td>0</td>\n",
       "    </tr>\n",
       "    <tr>\n",
       "      <th>6</th>\n",
       "      <td>(4, 7)</td>\n",
       "      <td>LINESTRING (2.00000 1.00000, 2.00000 2.00000)</td>\n",
       "      <td>0</td>\n",
       "    </tr>\n",
       "    <tr>\n",
       "      <th>7</th>\n",
       "      <td>(8, 9)</td>\n",
       "      <td>LINESTRING (0.50000 1.00000, 0.50000 0.50000)</td>\n",
       "      <td>1</td>\n",
       "    </tr>\n",
       "    <tr>\n",
       "      <th>8</th>\n",
       "      <td>(9, 10)</td>\n",
       "      <td>LINESTRING (0.50000 0.50000, 1.00000 0.50000)</td>\n",
       "      <td>1</td>\n",
       "    </tr>\n",
       "    <tr>\n",
       "      <th>9</th>\n",
       "      <td>(11, 12)</td>\n",
       "      <td>LINESTRING (2.00000 2.50000, 2.50000 2.50000)</td>\n",
       "      <td>2</td>\n",
       "    </tr>\n",
       "    <tr>\n",
       "      <th>10</th>\n",
       "      <td>(12, 13)</td>\n",
       "      <td>LINESTRING (2.50000 2.50000, 2.50000 2.00000)</td>\n",
       "      <td>2</td>\n",
       "    </tr>\n",
       "  </tbody>\n",
       "</table>\n",
       "</div>"
      ],
      "text/plain": [
       "          id                                       geometry  comp_label\n",
       "0     (0, 1)  LINESTRING (1.00000 2.00000, 0.00000 2.00000)           0\n",
       "1     (0, 2)  LINESTRING (1.00000 2.00000, 1.00000 1.00000)           0\n",
       "2     (0, 3)  LINESTRING (1.00000 2.00000, 1.00000 3.00000)           0\n",
       "3     (2, 7)  LINESTRING (1.00000 1.00000, 2.00000 2.00000)           0\n",
       "4     (4, 5)  LINESTRING (2.00000 1.00000, 2.00000 0.00000)           0\n",
       "5     (4, 6)  LINESTRING (2.00000 1.00000, 3.00000 1.00000)           0\n",
       "6     (4, 7)  LINESTRING (2.00000 1.00000, 2.00000 2.00000)           0\n",
       "7     (8, 9)  LINESTRING (0.50000 1.00000, 0.50000 0.50000)           1\n",
       "8    (9, 10)  LINESTRING (0.50000 0.50000, 1.00000 0.50000)           1\n",
       "9   (11, 12)  LINESTRING (2.00000 2.50000, 2.50000 2.50000)           2\n",
       "10  (12, 13)  LINESTRING (2.50000 2.50000, 2.50000 2.00000)           2"
      ]
     },
     "execution_count": 15,
     "metadata": {},
     "output_type": "execute_result"
    }
   ],
   "source": [
    "arcs_df"
   ]
  },
  {
   "cell_type": "markdown",
   "metadata": {},
   "source": [
    "#### We can also inspect the non-articulation points in the network. Non-articulation points are vertices in a network that are degree-2. A vertex is degree-2 if, and only if, it is directly connected to only 2 other vertices."
   ]
  },
  {
   "cell_type": "code",
   "execution_count": 16,
   "metadata": {
    "ExecuteTime": {
     "end_time": "2020-01-20T21:02:23.605799Z",
     "start_time": "2020-01-20T21:02:23.585279Z"
    }
   },
   "outputs": [
    {
     "data": {
      "text/plain": [
       "[9, 2, 12, 7]"
      ]
     },
     "execution_count": 16,
     "metadata": {},
     "output_type": "execute_result"
    }
   ],
   "source": [
    "ntw.non_articulation_points"
   ]
  },
  {
   "cell_type": "markdown",
   "metadata": {},
   "source": [
    "#### Slice out the articulation points and non-articulation points"
   ]
  },
  {
   "cell_type": "code",
   "execution_count": 17,
   "metadata": {
    "ExecuteTime": {
     "end_time": "2020-01-20T21:02:23.650491Z",
     "start_time": "2020-01-20T21:02:23.618326Z"
    }
   },
   "outputs": [],
   "source": [
    "napts = ntw.non_articulation_points\n",
    "articulation_vertices = vertices_df[~vertices_df[\"id\"].isin(napts)]\n",
    "non_articulation_vertices = vertices_df[vertices_df[\"id\"].isin(napts)]"
   ]
  },
  {
   "cell_type": "markdown",
   "metadata": {},
   "source": [
    "#### Plot the connected components while making a distinction between articulation points and non-articulation points"
   ]
  },
  {
   "cell_type": "code",
   "execution_count": 18,
   "metadata": {
    "ExecuteTime": {
     "end_time": "2020-01-20T21:02:24.115676Z",
     "start_time": "2020-01-20T21:02:23.657337Z"
    }
   },
   "outputs": [
    {
     "data": {
      "image/png": "[encoded data removed]",
      "text/plain": [
       "<Figure size 504x504 with 1 Axes>"
      ]
     },
     "metadata": {
      "needs_background": "light"
     },
     "output_type": "display_data"
    }
   ],
   "source": [
    "base = arcs_df.plot(column=\"comp_label\", cmap=\"Set2\", linewidth=5, figsize=(7, 7))\n",
    "articulation_vertices.plot(ax=base, color=\"k\", markersize=100, zorder=2)\n",
    "non_articulation_vertices.plot(ax=base, marker=\"s\", color=\"k\", markersize=20, zorder=2);"
   ]
  },
  {
   "cell_type": "markdown",
   "metadata": {},
   "source": [
    "----------------\n",
    "\n",
    "### 3. Add a loop of `libpysal.cg.Chain` objects"
   ]
  },
  {
   "cell_type": "code",
   "execution_count": 19,
   "metadata": {
    "ExecuteTime": {
     "end_time": "2020-01-20T21:02:24.134457Z",
     "start_time": "2020-01-20T21:02:24.124661Z"
    }
   },
   "outputs": [],
   "source": [
    "new_lines = [\n",
    "    Chain([Point([3, 1]), Point([3.25, 1.25])]),\n",
    "    Chain([Point([3.25, 1.25]), Point([3.5, 1.25])]),\n",
    "    Chain([Point([3.5, 1.25]), Point([3.75, 1])]),\n",
    "    Chain([Point([3.75, 1]), Point([3.5, .75])]),\n",
    "    Chain([Point([3.5, .75]), Point([3.25, .75])]),\n",
    "    Chain([Point([3.25, .75]), Point([3, 1])]),\n",
    "]\n",
    "lines += new_lines"
   ]
  },
  {
   "cell_type": "code",
   "execution_count": 20,
   "metadata": {
    "ExecuteTime": {
     "end_time": "2020-01-20T21:02:24.154766Z",
     "start_time": "2020-01-20T21:02:24.140838Z"
    }
   },
   "outputs": [
    {
     "name": "stderr",
     "output_type": "stream",
     "text": [
      "/Users/jgaboardi/miniconda3/envs/py3_spgh_dev/lib/python3.7/site-packages/libpysal/weights/weights.py:167: UserWarning: The weights matrix is not fully connected: \n",
      " There are 3 disconnected components.\n",
      "  warnings.warn(message)\n",
      "/Users/jgaboardi/miniconda3/envs/py3_spgh_dev/lib/python3.7/site-packages/libpysal/weights/weights.py:167: UserWarning: The weights matrix is not fully connected: \n",
      " There are 3 disconnected components.\n",
      " There are 2 islands with ids: (8, 10), (11, 13).\n",
      "  warnings.warn(message)\n"
     ]
    }
   ],
   "source": [
    "ntw = spaghetti.Network(in_data=lines)"
   ]
  },
  {
   "cell_type": "code",
   "execution_count": 21,
   "metadata": {
    "ExecuteTime": {
     "end_time": "2020-01-20T21:02:24.174271Z",
     "start_time": "2020-01-20T21:02:24.164484Z"
    }
   },
   "outputs": [
    {
     "data": {
      "text/plain": [
       "3"
      ]
     },
     "execution_count": 21,
     "metadata": {},
     "output_type": "execute_result"
    }
   ],
   "source": [
    "ntw.network_n_components"
   ]
  },
  {
   "cell_type": "code",
   "execution_count": 22,
   "metadata": {
    "ExecuteTime": {
     "end_time": "2020-01-20T21:02:24.192396Z",
     "start_time": "2020-01-20T21:02:24.182917Z"
    }
   },
   "outputs": [
    {
     "data": {
      "text/plain": [
       "{0: [(0, 1),\n",
       "  (0, 2),\n",
       "  (0, 3),\n",
       "  (2, 7),\n",
       "  (4, 5),\n",
       "  (4, 6),\n",
       "  (4, 7),\n",
       "  (6, 14),\n",
       "  (6, 18),\n",
       "  (14, 15),\n",
       "  (15, 16),\n",
       "  (16, 17),\n",
       "  (17, 18)],\n",
       " 1: [(8, 9), (9, 10)],\n",
       " 2: [(11, 12), (12, 13)]}"
      ]
     },
     "execution_count": 22,
     "metadata": {},
     "output_type": "execute_result"
    }
   ],
   "source": [
    "ntw.network_component2arc"
   ]
  },
  {
   "cell_type": "code",
   "execution_count": 23,
   "metadata": {
    "ExecuteTime": {
     "end_time": "2020-01-20T21:02:24.236188Z",
     "start_time": "2020-01-20T21:02:24.204731Z"
    }
   },
   "outputs": [],
   "source": [
    "# network vertices and arcs\n",
    "vertices_df, arcs_df = spaghetti.element_as_gdf(ntw, vertices=True, arcs=True)"
   ]
  },
  {
   "cell_type": "code",
   "execution_count": 24,
   "metadata": {
    "ExecuteTime": {
     "end_time": "2020-01-20T21:02:24.262875Z",
     "start_time": "2020-01-20T21:02:24.242618Z"
    }
   },
   "outputs": [
    {
     "data": {
      "text/html": [
       "<div>\n",
       "<style scoped>\n",
       "    .dataframe tbody tr th:only-of-type {\n",
       "        vertical-align: middle;\n",
       "    }\n",
       "\n",
       "    .dataframe tbody tr th {\n",
       "        vertical-align: top;\n",
       "    }\n",
       "\n",
       "    .dataframe thead th {\n",
       "        text-align: right;\n",
       "    }\n",
       "</style>\n",
       "<table border=\"1\" class=\"dataframe\">\n",
       "  <thead>\n",
       "    <tr style=\"text-align: right;\">\n",
       "      <th></th>\n",
       "      <th>id</th>\n",
       "      <th>geometry</th>\n",
       "      <th>comp_label</th>\n",
       "    </tr>\n",
       "  </thead>\n",
       "  <tbody>\n",
       "    <tr>\n",
       "      <th>0</th>\n",
       "      <td>(0, 1)</td>\n",
       "      <td>LINESTRING (1.00000 2.00000, 0.00000 2.00000)</td>\n",
       "      <td>0</td>\n",
       "    </tr>\n",
       "    <tr>\n",
       "      <th>1</th>\n",
       "      <td>(0, 2)</td>\n",
       "      <td>LINESTRING (1.00000 2.00000, 1.00000 1.00000)</td>\n",
       "      <td>0</td>\n",
       "    </tr>\n",
       "    <tr>\n",
       "      <th>2</th>\n",
       "      <td>(0, 3)</td>\n",
       "      <td>LINESTRING (1.00000 2.00000, 1.00000 3.00000)</td>\n",
       "      <td>0</td>\n",
       "    </tr>\n",
       "    <tr>\n",
       "      <th>3</th>\n",
       "      <td>(2, 7)</td>\n",
       "      <td>LINESTRING (1.00000 1.00000, 2.00000 2.00000)</td>\n",
       "      <td>0</td>\n",
       "    </tr>\n",
       "    <tr>\n",
       "      <th>4</th>\n",
       "      <td>(4, 5)</td>\n",
       "      <td>LINESTRING (2.00000 1.00000, 2.00000 0.00000)</td>\n",
       "      <td>0</td>\n",
       "    </tr>\n",
       "    <tr>\n",
       "      <th>5</th>\n",
       "      <td>(4, 6)</td>\n",
       "      <td>LINESTRING (2.00000 1.00000, 3.00000 1.00000)</td>\n",
       "      <td>0</td>\n",
       "    </tr>\n",
       "    <tr>\n",
       "      <th>6</th>\n",
       "      <td>(4, 7)</td>\n",
       "      <td>LINESTRING (2.00000 1.00000, 2.00000 2.00000)</td>\n",
       "      <td>0</td>\n",
       "    </tr>\n",
       "    <tr>\n",
       "      <th>7</th>\n",
       "      <td>(6, 14)</td>\n",
       "      <td>LINESTRING (3.00000 1.00000, 3.25000 1.25000)</td>\n",
       "      <td>0</td>\n",
       "    </tr>\n",
       "    <tr>\n",
       "      <th>8</th>\n",
       "      <td>(6, 18)</td>\n",
       "      <td>LINESTRING (3.00000 1.00000, 3.25000 0.75000)</td>\n",
       "      <td>0</td>\n",
       "    </tr>\n",
       "    <tr>\n",
       "      <th>9</th>\n",
       "      <td>(8, 9)</td>\n",
       "      <td>LINESTRING (0.50000 1.00000, 0.50000 0.50000)</td>\n",
       "      <td>1</td>\n",
       "    </tr>\n",
       "    <tr>\n",
       "      <th>10</th>\n",
       "      <td>(9, 10)</td>\n",
       "      <td>LINESTRING (0.50000 0.50000, 1.00000 0.50000)</td>\n",
       "      <td>1</td>\n",
       "    </tr>\n",
       "    <tr>\n",
       "      <th>11</th>\n",
       "      <td>(11, 12)</td>\n",
       "      <td>LINESTRING (2.00000 2.50000, 2.50000 2.50000)</td>\n",
       "      <td>2</td>\n",
       "    </tr>\n",
       "    <tr>\n",
       "      <th>12</th>\n",
       "      <td>(12, 13)</td>\n",
       "      <td>LINESTRING (2.50000 2.50000, 2.50000 2.00000)</td>\n",
       "      <td>2</td>\n",
       "    </tr>\n",
       "    <tr>\n",
       "      <th>13</th>\n",
       "      <td>(14, 15)</td>\n",
       "      <td>LINESTRING (3.25000 1.25000, 3.50000 1.25000)</td>\n",
       "      <td>0</td>\n",
       "    </tr>\n",
       "    <tr>\n",
       "      <th>14</th>\n",
       "      <td>(15, 16)</td>\n",
       "      <td>LINESTRING (3.50000 1.25000, 3.75000 1.00000)</td>\n",
       "      <td>0</td>\n",
       "    </tr>\n",
       "    <tr>\n",
       "      <th>15</th>\n",
       "      <td>(16, 17)</td>\n",
       "      <td>LINESTRING (3.75000 1.00000, 3.50000 0.75000)</td>\n",
       "      <td>0</td>\n",
       "    </tr>\n",
       "    <tr>\n",
       "      <th>16</th>\n",
       "      <td>(17, 18)</td>\n",
       "      <td>LINESTRING (3.50000 0.75000, 3.25000 0.75000)</td>\n",
       "      <td>0</td>\n",
       "    </tr>\n",
       "  </tbody>\n",
       "</table>\n",
       "</div>"
      ],
      "text/plain": [
       "          id                                       geometry  comp_label\n",
       "0     (0, 1)  LINESTRING (1.00000 2.00000, 0.00000 2.00000)           0\n",
       "1     (0, 2)  LINESTRING (1.00000 2.00000, 1.00000 1.00000)           0\n",
       "2     (0, 3)  LINESTRING (1.00000 2.00000, 1.00000 3.00000)           0\n",
       "3     (2, 7)  LINESTRING (1.00000 1.00000, 2.00000 2.00000)           0\n",
       "4     (4, 5)  LINESTRING (2.00000 1.00000, 2.00000 0.00000)           0\n",
       "5     (4, 6)  LINESTRING (2.00000 1.00000, 3.00000 1.00000)           0\n",
       "6     (4, 7)  LINESTRING (2.00000 1.00000, 2.00000 2.00000)           0\n",
       "7    (6, 14)  LINESTRING (3.00000 1.00000, 3.25000 1.25000)           0\n",
       "8    (6, 18)  LINESTRING (3.00000 1.00000, 3.25000 0.75000)           0\n",
       "9     (8, 9)  LINESTRING (0.50000 1.00000, 0.50000 0.50000)           1\n",
       "10   (9, 10)  LINESTRING (0.50000 0.50000, 1.00000 0.50000)           1\n",
       "11  (11, 12)  LINESTRING (2.00000 2.50000, 2.50000 2.50000)           2\n",
       "12  (12, 13)  LINESTRING (2.50000 2.50000, 2.50000 2.00000)           2\n",
       "13  (14, 15)  LINESTRING (3.25000 1.25000, 3.50000 1.25000)           0\n",
       "14  (15, 16)  LINESTRING (3.50000 1.25000, 3.75000 1.00000)           0\n",
       "15  (16, 17)  LINESTRING (3.75000 1.00000, 3.50000 0.75000)           0\n",
       "16  (17, 18)  LINESTRING (3.50000 0.75000, 3.25000 0.75000)           0"
      ]
     },
     "execution_count": 24,
     "metadata": {},
     "output_type": "execute_result"
    }
   ],
   "source": [
    "arcs_df"
   ]
  },
  {
   "cell_type": "markdown",
   "metadata": {},
   "source": [
    "#### Here we can see that all the new network vertices are non-articulation point"
   ]
  },
  {
   "cell_type": "code",
   "execution_count": 25,
   "metadata": {
    "ExecuteTime": {
     "end_time": "2020-01-20T21:02:24.282856Z",
     "start_time": "2020-01-20T21:02:24.271864Z"
    }
   },
   "outputs": [
    {
     "data": {
      "text/plain": [
       "[2, 7, 9, 12, 14, 15, 16, 17, 18]"
      ]
     },
     "execution_count": 25,
     "metadata": {},
     "output_type": "execute_result"
    }
   ],
   "source": [
    "ntw.non_articulation_points"
   ]
  },
  {
   "cell_type": "markdown",
   "metadata": {},
   "source": [
    "#### Slice out the articulation points and non-articulation points"
   ]
  },
  {
   "cell_type": "code",
   "execution_count": 26,
   "metadata": {
    "ExecuteTime": {
     "end_time": "2020-01-20T21:02:24.301155Z",
     "start_time": "2020-01-20T21:02:24.291990Z"
    }
   },
   "outputs": [],
   "source": [
    "napts = ntw.non_articulation_points\n",
    "articulation_vertices = vertices_df[~vertices_df[\"id\"].isin(napts)]\n",
    "non_articulation_vertices = vertices_df[vertices_df[\"id\"].isin(napts)]"
   ]
  },
  {
   "cell_type": "markdown",
   "metadata": {},
   "source": [
    "#### The new network vertices are non-articulation points because they form a closed ring"
   ]
  },
  {
   "cell_type": "code",
   "execution_count": 27,
   "metadata": {
    "ExecuteTime": {
     "end_time": "2020-01-20T21:02:24.752013Z",
     "start_time": "2020-01-20T21:02:24.306742Z"
    }
   },
   "outputs": [
    {
     "data": {
      "image/png": "[encoded data removed]",
      "text/plain": [
       "<Figure size 504x504 with 1 Axes>"
      ]
     },
     "metadata": {
      "needs_background": "light"
     },
     "output_type": "display_data"
    }
   ],
   "source": [
    "base = arcs_df.plot(column=\"comp_label\", cmap=\"Set2\", linewidth=5, figsize=(7, 7))\n",
    "articulation_vertices.plot(ax=base, color=\"k\", markersize=100, zorder=2)\n",
    "non_articulation_vertices.plot(ax=base, marker=\"s\", color=\"k\", markersize=20, zorder=2);"
   ]
  },
  {
   "cell_type": "markdown",
   "metadata": {},
   "source": [
    "-----------------------------------------------------"
   ]
  }
 ],
 "metadata": {
  "kernelspec": {
   "display_name": "Python [conda env:py3_spgh_dev]",
   "language": "python",
   "name": "conda-env-py3_spgh_dev-py"
  },
  "language_info": {
   "codemirror_mode": {
    "name": "ipython",
    "version": 3
   },
   "file_extension": ".py",
   "mimetype": "text/x-python",
   "name": "python",
   "nbconvert_exporter": "python",
   "pygments_lexer": "ipython3",
   "version": "3.7.3"
  }
 },
 "nbformat": 4,
 "nbformat_minor": 2
}
