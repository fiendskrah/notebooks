{
 "cells": [
  {
   "cell_type": "markdown",
   "metadata": {},
   "source": [
    "---------------\n",
    "\n",
    "**If any part of this notebook is used in your research, please cite with the reference found in** **[README.md](https://github.com/pysal/spaghetti#bibtex-citation).**\n",
    "\n",
    "----------------\n",
    "\n",
    "## The Traveling Sales(man)(person) Problem — TSP\n",
    "### Integrating `pysal/spaghetti` and [pulp](https://github.com/coin-or/pulp) for optimal routing\n",
    "\n",
    "**Author: James D. Gaboardi** **<jgaboardi@gmail.com>**\n",
    "\n",
    "**This notebook provides a use case for:**\n",
    "\n",
    "1. Introducing the TSP\n",
    "2. Declaration or a solution class and model parameters\n",
    "3. Solving the TSP for an optimal tour"
   ]
  },
  {
   "cell_type": "code",
   "execution_count": 1,
   "metadata": {
    "ExecuteTime": {
     "end_time": "2020-01-25T22:07:52.936171Z",
     "start_time": "2020-01-25T22:07:52.568219Z"
    }
   },
   "outputs": [
    {
     "name": "stdout",
     "output_type": "stream",
     "text": [
      "2020-01-25T17:07:52-05:00\n",
      "\n",
      "CPython 3.7.3\n",
      "IPython 7.10.2\n",
      "\n",
      "compiler   : Clang 9.0.0 (tags/RELEASE_900/final)\n",
      "system     : Darwin\n",
      "release    : 19.2.0\n",
      "machine    : x86_64\n",
      "processor  : i386\n",
      "CPU cores  : 4\n",
      "interpreter: 64bit\n"
     ]
    }
   ],
   "source": [
    "%load_ext watermark\n",
    "%watermark"
   ]
  },
  {
   "cell_type": "markdown",
   "metadata": {},
   "source": [
    "**In addtion to the base** **[spaghetti requirements](https://github.com/pysal/spaghetti/blob/master/requirements.txt)** **(and their dependecies), this notebook requires installations of:**\n",
    "\n",
    "* [geopandas](http://geopandas.org)\n",
    "    * `$ conda install -c conda-forge geopandas`\n",
    "* [matplotlib](https://matplotlib.org)\n",
    "    * `$ conda install matplotlib`\n",
    "* [pulp](https://anaconda.org/conda-forge/pulp)\n",
    "    * `$ conda install -c conda-forge pulp`    \n",
    "\n",
    "-----------------------"
   ]
  },
  {
   "cell_type": "code",
   "execution_count": 2,
   "metadata": {
    "ExecuteTime": {
     "end_time": "2020-01-25T22:07:55.423253Z",
     "start_time": "2020-01-25T22:07:52.940776Z"
    }
   },
   "outputs": [
    {
     "name": "stdout",
     "output_type": "stream",
     "text": [
      "watermark 2.0.2\n",
      "geopandas  0.6.2\n",
      "pulp       1.6.8\n",
      "matplotlib 3.1.2\n",
      "spaghetti  1.4.0\n",
      "numpy      1.17.3\n",
      "\n"
     ]
    }
   ],
   "source": [
    "import spaghetti\n",
    "import geopandas\n",
    "from libpysal import examples\n",
    "import matplotlib\n",
    "import numpy\n",
    "import pulp\n",
    "try:\n",
    "    from IPython.display import set_matplotlib_formats\n",
    "\n",
    "    set_matplotlib_formats(\"retina\")\n",
    "except ImportError:\n",
    "    pass\n",
    "%matplotlib inline\n",
    "%watermark -w\n",
    "%watermark -iv"
   ]
  },
  {
   "cell_type": "markdown",
   "metadata": {},
   "source": [
    "-----------------------------\n",
    "\n",
    "### 1 Introduction\n",
    "#### Scenario\n",
    "Detective George B. Königsberg thought he needed to visit **7** crimes scenes in one area of City X this afternoon in order to collect evidence. However, his lieutenant, Anna Nagurney just told him he needs to double that to **14**. He really wants to wrap up early so he can get home to watch the 2012 mathematical thriller, [Travelling Salesman by Timothy Lanzone](https://en.wikipedia.org/wiki/Travelling_Salesman_(2012_film)), with his cat and dog, Euler and Hamilton. Therefore, he decides on calculating an optimal route so that he can visit all **14** crime scenes in one tour while covering the shortest distance. Det. Königsberg utilizes an integer linear programming formulation of the traveling salesperson problem (TSP) to find his best route.\n",
    "\n",
    "--------------------------------\n",
    "\n",
    "#### Integer Linear Programming Formulation based on Miller, Tucker, and Zemlin (1960).\n",
    "\n",
    "$\\begin{array}\n",
    "\\displaystyle \\normalsize \\textrm{Minimize} & \\displaystyle \\normalsize \\sum_{0 \\leq i \\\\ i \\neq j}^n \\sum_{j \\leq n \\\\ j \\neq i}^n c_{ij}x_{ij}  & & & &  \\normalsize (1) \\\\\n",
    "\\normalsize \\textrm{Subject To} & \\displaystyle \\normalsize \\sum_{i=0}^n x_{ij}=1 & \\normalsize j=1,...,n, & \\normalsize j\\neq i;  & &\\normalsize (2)\\\\\n",
    "& \\displaystyle \\normalsize \\sum_{j=0}^n x_{ij}=1 & \\normalsize i=1,...,n, & \\normalsize i\\neq j; & &\\normalsize (3) \\\\\n",
    "& \\displaystyle \\normalsize u_i - u_j + p x_{ij} \\leq p - 1 & \\normalsize i=1,...,n, & \\normalsize 1 \\leq i \\neq j \\leq n; & &\\normalsize (4) \\\\\n",
    "& \\normalsize x_{ij} \\in \\{0,1\\} & \\normalsize i=1,...,n, & \\normalsize j=1,...,n; & &\\normalsize (5)\\\\\n",
    "& \\normalsize u_{i} \\in \\mathbb{Z} & \\normalsize i=1,...,n. & & &\\normalsize (6)\\\\\n",
    "\\end{array}$\n",
    "\n",
    "$\\begin{array}\n",
    "\\displaystyle \\normalsize \\textrm{Where} & \\small x_{ij} & \\small = & \\small \\begin{cases}\n",
    "    1, & \\textrm{if node } i \\textrm{ immediately precedes node } j \\textrm{ in the tour}\\\\\n",
    "    0, & \\textrm{otherwise}\n",
    "  \\end{cases} &&&&\\\\\n",
    "& \\small c_{ij} & \\small = & \\small \\textrm{distance matrix between all } i,j \\textrm{ pairs} &&&& \\\\\n",
    "& \\small n & \\small = & \\small \\textrm{the total number of nodes in the tour} &&&&\\\\\n",
    "& \\small i & \\small = & \\small \\textrm{each potential origin node} &&&&\\\\\n",
    "& \\small j & \\small = & \\small \\textrm{each potential destination node} &&&&\\\\\n",
    "& \\small u_i & \\small = & \\small \\textrm{continuous, non-negative real numbers} &&&&\\\\\n",
    "& \\small p & \\small = & \\small \\textrm{allowed visits prior to return (}n = p \\textrm{ in this formulation)}  &&&&\\\\\n",
    "\\end{array}$\n",
    "\n",
    "\n",
    "---------------------------------\n",
    "\n",
    "**References**\n",
    "\n",
    "* **Cummings, N.** (2000) [*A brief History of the Travelling Salesman Problem*](https://www.theorsociety.com/about-or/or-methods/heuristics/a-brief-history-of-the-travelling-salesman-problem/). The Operational Research Society. Accessed: 01/2020.\n",
    "* **Dantzig, G., Fulkerson, R., and Johnson, S.** (1954) *Solution of a Large-Scale Traveling-Salesman Problem*. Journal of the Operational Research Society of America. 2(4)393-410.\n",
    "* **Flood, Merrill M.** (1956) *The Traveling-Salesman Problem*. 4(1)61-75.\n",
    "* **Gass, S. I. and Assad, A. A.** (2005) *An Annotated Timeline of Operations Research: An Informal History*. Springer US.\n",
    "* **Miller, C. E., Tucker, A. W., and Zemlin, R. A.** (1960) *Integer Programming Formulation of Traveling Salesman Problems*. Journal of Association for Computing Machinery. 7(4)326-329.\n",
    "* **Miller, H. J. and Shaw, S.-L.** (2001) *Geographic Information Systems for Transportation: Principles and Applications*. New York. Oxford University Press.\n",
    "* **Nemhauser, G. L. and Wolsey, L. A.** (1988) *Integer and Combinatorial Optimization*. John Wiley & Sons, Inc.\n",
    "\n",
    "-------------------------------------\n",
    "\n",
    "### 2. A model, data and parameters\n",
    "#### Solution class"
   ]
  },
  {
   "cell_type": "code",
   "execution_count": 3,
   "metadata": {
    "ExecuteTime": {
     "end_time": "2020-01-25T22:07:55.463452Z",
     "start_time": "2020-01-25T22:07:55.431596Z"
    }
   },
   "outputs": [],
   "source": [
    "class MTZ_TSP:\n",
    "    def __init__(self, nodes, cij, xij_tag=\"x_%s,%s\", ui_tag=\"u_%s\"):\n",
    "        \"\"\"Instantiate and solve the Traveling Salesperson Problem (TSP)\n",
    "        based the formulation from Miller, Tucker, and Zemlin (1960).\n",
    "        \n",
    "        Parameters\n",
    "        ----------\n",
    "        nodes : geopandas.GeoSeries\n",
    "            All nodes to be visited in the tour.\n",
    "        cij : numpy.array\n",
    "            All-to-all distance matrix for nodes.\n",
    "        xij_tag : str\n",
    "            Tour decision variable names within the model. Default is\n",
    "            'x_%s,%s' where %s indicates string formatting.\n",
    "        ui_tag : str\n",
    "            Arbitrary real number decision variable names within the model.\n",
    "            Default is 'u_%s' where %s indicates string formatting.\n",
    "        \n",
    "        Attributes\n",
    "        ----------\n",
    "        nodes : geopandas.GeoSeries\n",
    "            See description in above.\n",
    "        p : int\n",
    "            The number of nodes in the set.   \n",
    "        rp_0n : range\n",
    "            Range of node IDs in ``nodes`` from 0,...,``p``.\n",
    "        rp_1n : range\n",
    "            Range of node IDs in ``nodes`` from 1,...,``p``.\n",
    "        id : str\n",
    "            Column name for ``nodes``.\n",
    "        cij : numpy.array\n",
    "            See description in above.\n",
    "        xij_tag : str\n",
    "            See description in above.\n",
    "        ui_tag : str\n",
    "            See description in above.\n",
    "        tsp : pulp.LpProblem\n",
    "            Integer Linear Programming problem instance.\n",
    "        xij : numpy.array\n",
    "            Binary tour decision variables (``pulp.LpVariable``).\n",
    "        ui : numpy.array\n",
    "            Continuous arbitrary real number decision variables\n",
    "            (``pulp.LpVariable``).\n",
    "        cycle_ods : dict\n",
    "            Cycle origin-destination lookup keyed by origin with\n",
    "            destination as the value.\n",
    "        tour_pairs : list\n",
    "            OD pairs comprising each abstract tour arc.\n",
    "        \"\"\"\n",
    "\n",
    "        # all nodes to be visited and the distance matrix\n",
    "        self.nodes, self.cij = nodes, cij\n",
    "        # number of nodes in the set\n",
    "        self.p = self.nodes.shape[0]\n",
    "        # full and truncated range of nodes (p) in the set\n",
    "        self.rp_0n, self.rp_1n = range(self.p), range(1, self.p)\n",
    "        # column name for node IDs\n",
    "        self.id = self.nodes.name\n",
    "        # alpha tag for decision and dummy variable prefixes\n",
    "        self.xij_tag, self.ui_tag = xij_tag, ui_tag\n",
    "\n",
    "        # instantiate a model\n",
    "        self.tsp = pulp.LpProblem(\"MTZ_TSP\", pulp.LpMinimize)\n",
    "        # create and set the tour decision variables\n",
    "        self.tour_dvs()\n",
    "        # create and set the arbitraty real number decision variables\n",
    "        self.arn_dvs()\n",
    "        # set the objective function\n",
    "        self.objective_func()\n",
    "        # node entry constraints\n",
    "        self.entry_exit_constrs(entry=True)\n",
    "        # node exit constraints\n",
    "        self.entry_exit_constrs(entry=False)\n",
    "        # subtour prevention constraints\n",
    "        self.prevent_subtours()\n",
    "        # solve\n",
    "        self.tsp.solve()\n",
    "        # origin-destination lookup\n",
    "        self.get_decisions(display=display)\n",
    "        # extract the sequence of nodes to construct the optimal tour\n",
    "        self.construct_tour()\n",
    "\n",
    "    def tour_dvs(self):\n",
    "        \"\"\"Create the tour decision variables - eq (5).\"\"\"\n",
    "\n",
    "        def _name(_x):\n",
    "            \"\"\"Helper for naming variables\"\"\"\n",
    "            return self.nodes[_x].split(\"_\")[-1]\n",
    "\n",
    "        xij = numpy.array(\n",
    "            [\n",
    "                [\n",
    "                    pulp.LpVariable(self.xij_tag % (_name(i), _name(j)), cat=\"Binary\")\n",
    "                    for j in self.rp_0n\n",
    "                ]\n",
    "                for i in self.rp_0n\n",
    "            ]\n",
    "        )\n",
    "\n",
    "        self.xij = xij\n",
    "\n",
    "    def arn_dvs(self):\n",
    "        \"\"\"Create arbitrary real number decision variables - eq (6).\"\"\"\n",
    "        ui = numpy.array(\n",
    "            [pulp.LpVariable(self.ui_tag % (i), lowBound=0) for i in self.rp_0n]\n",
    "        )\n",
    "\n",
    "        self.ui = ui\n",
    "\n",
    "    def objective_func(self):\n",
    "        \"\"\"Add the objective function - eq (1).\"\"\"\n",
    "        self.tsp += pulp.lpSum(\n",
    "            [\n",
    "                self.cij[i, j] * self.xij[i, j]\n",
    "                for i in self.rp_0n\n",
    "                for j in self.rp_0n\n",
    "                if i != j\n",
    "            ]\n",
    "        )\n",
    "\n",
    "    def entry_exit_constrs(self, entry=True):\n",
    "        \"\"\"Add entry and exit constraints - eq (2) and (3).\"\"\"\n",
    "        if entry:\n",
    "            for i in self.rp_0n:\n",
    "                self.tsp += (\n",
    "                    pulp.lpSum([self.xij[i, j] for j in self.rp_0n if i != j]) == 1\n",
    "                )\n",
    "        # exit constraints\n",
    "        else:\n",
    "            for j in self.rp_0n:\n",
    "                self.tsp += (\n",
    "                    pulp.lpSum([self.xij[i, j] for i in self.rp_0n if i != j]) == 1\n",
    "                )\n",
    "\n",
    "    def prevent_subtours(self):\n",
    "        \"\"\"Add subtour prevention constraints - eq (4).\"\"\"\n",
    "        for i in self.rp_1n:\n",
    "            for j in self.rp_1n:\n",
    "                if i != j:\n",
    "                    self.tsp += (\n",
    "                        self.ui[i] - self.ui[j] + self.p * self.xij[i, j] <= self.p - 1\n",
    "                    )\n",
    "\n",
    "    def get_decisions(self, display=True):\n",
    "        \"\"\"Fetch the selected decision variables.\"\"\"\n",
    "        cycle_ods = {}\n",
    "        for var in self.tsp.variables():\n",
    "            if var.name.startswith(self.ui_tag[0]):\n",
    "                continue\n",
    "            if var.varValue > 0:\n",
    "                if display:\n",
    "                    print(\"%s: %s\" % (var.name, var.varValue))\n",
    "                od = var.name.split(\"_\")[-1]\n",
    "                o, d = [int(tf) for tf in od.split(\",\")]\n",
    "                cycle_ods[o] = d\n",
    "        if display:\n",
    "            print(\"Status: %s\" % pulp.LpStatus[self.tsp.status])\n",
    "\n",
    "        self.cycle_ods = cycle_ods\n",
    "\n",
    "    def construct_tour(self):\n",
    "        \"\"\"Construct the tour.\"\"\"\n",
    "        tour_pairs = []\n",
    "        for origin in self.rp_0n:\n",
    "            tour_pairs.append([])\n",
    "            try:\n",
    "                tour_pairs[origin].append(next_origin)\n",
    "                next_origin = self.cycle_ods[next_origin]\n",
    "                tour_pairs[origin].append(next_origin)\n",
    "            except NameError:\n",
    "                next_origin = self.cycle_ods[origin]\n",
    "                tour_pairs[origin].append(origin)\n",
    "                tour_pairs[origin].append(next_origin)\n",
    "\n",
    "        tour_pairs = {idx: sorted(cp) for idx, cp in enumerate(tour_pairs)}\n",
    "        self.tour_pairs = tour_pairs\n",
    "\n",
    "    def extract_tour(self, paths, id_col, leg_label=\"leg\"):\n",
    "        \"\"\"Extract the tour (the legs in the journey) as a \n",
    "        ``geopandas.GeoDataFrame`` of ``shapely.geometry.LineString`` objects.\n",
    "        \n",
    "        Parameters\n",
    "        ----------\n",
    "        paths : geopandas.GeoDataFrame\n",
    "            Shortest-path routes between all observations.\n",
    "        id_col : str\n",
    "            ID column name.\n",
    "        leg_label : str\n",
    "            Column name for the tour sequence. Default is 'leg'.\n",
    "        \n",
    "        Returns\n",
    "        -------\n",
    "        tour : geopandas.GeoDataFrame\n",
    "            Optimal tour of ``self.nodes`` squenced by ``leg_label``.\n",
    "        \"\"\"\n",
    "        paths[leg_label] = int\n",
    "        # set label of journey leg for each OD pair.\n",
    "        for leg, cp in self.tour_pairs.items():\n",
    "            paths.loc[(paths[id_col] == tuple(cp)), leg_label] = leg\n",
    "        # extract only paths in the tour\n",
    "        tour = paths[paths[leg_label] != int].copy()\n",
    "        tour.sort_values(by=[leg_label], inplace=True)\n",
    "\n",
    "        return tour"
   ]
  },
  {
   "cell_type": "markdown",
   "metadata": {},
   "source": [
    "#### Streets"
   ]
  },
  {
   "cell_type": "code",
   "execution_count": 4,
   "metadata": {
    "ExecuteTime": {
     "end_time": "2020-01-25T22:07:55.820062Z",
     "start_time": "2020-01-25T22:07:55.470126Z"
    }
   },
   "outputs": [],
   "source": [
    "streets = geopandas.read_file(examples.get_path(\"streets.shp\"))\n",
    "streets.crs = \"epsg:2223\"\n",
    "streets = streets.to_crs(\"epsg:2762\")"
   ]
  },
  {
   "cell_type": "markdown",
   "metadata": {},
   "source": [
    "#### Crimes"
   ]
  },
  {
   "cell_type": "code",
   "execution_count": 5,
   "metadata": {
    "ExecuteTime": {
     "end_time": "2020-01-25T22:07:56.155089Z",
     "start_time": "2020-01-25T22:07:55.823960Z"
    }
   },
   "outputs": [],
   "source": [
    "all_crimes = geopandas.read_file(examples.get_path(\"crimes.shp\"))\n",
    "all_crimes.crs = \"epsg:2223\"\n",
    "all_crimes = all_crimes.to_crs(\"epsg:2762\")"
   ]
  },
  {
   "cell_type": "markdown",
   "metadata": {
    "ExecuteTime": {
     "end_time": "2020-01-21T04:22:00.659016Z",
     "start_time": "2020-01-21T04:22:00.655646Z"
    }
   },
   "source": [
    "#### Detective Königsberg's cases"
   ]
  },
  {
   "cell_type": "code",
   "execution_count": 6,
   "metadata": {
    "ExecuteTime": {
     "end_time": "2020-01-25T22:07:56.167060Z",
     "start_time": "2020-01-25T22:07:56.157557Z"
    }
   },
   "outputs": [],
   "source": [
    "numpy.random.seed(1960)\n",
    "koenigsberg_cases = 7 * 2\n",
    "subset_idx = numpy.random.choice(all_crimes.index, koenigsberg_cases, replace=False)\n",
    "crimes_scenes = all_crimes[all_crimes.index.isin(subset_idx)].copy()"
   ]
  },
  {
   "cell_type": "markdown",
   "metadata": {
    "ExecuteTime": {
     "end_time": "2020-01-21T04:39:16.711389Z",
     "start_time": "2020-01-21T04:39:16.702359Z"
    }
   },
   "source": [
    "#### Instantiate a network object"
   ]
  },
  {
   "cell_type": "code",
   "execution_count": 7,
   "metadata": {
    "ExecuteTime": {
     "end_time": "2020-01-25T22:07:56.888393Z",
     "start_time": "2020-01-25T22:07:56.173758Z"
    }
   },
   "outputs": [],
   "source": [
    "ntw = spaghetti.Network(in_data=streets)\n",
    "vertices, arcs = spaghetti.element_as_gdf(ntw, vertices=True, arcs=True)"
   ]
  },
  {
   "cell_type": "markdown",
   "metadata": {},
   "source": [
    "#### Plot"
   ]
  },
  {
   "cell_type": "code",
   "execution_count": 8,
   "metadata": {
    "ExecuteTime": {
     "end_time": "2020-01-25T22:07:57.422323Z",
     "start_time": "2020-01-25T22:07:56.893828Z"
    }
   },
   "outputs": [
    {
     "data": {
      "text/plain": [
       "<matplotlib.axes._subplots.AxesSubplot at 0x1065734a8>"
      ]
     },
     "execution_count": 8,
     "metadata": {},
     "output_type": "execute_result"
    },
    {
     "data": {
      "image/png": "[encoded data removed]",
      "text/plain": [
       "<Figure size 720x720 with 1 Axes>"
      ]
     },
     "metadata": {
      "needs_background": "light"
     },
     "output_type": "display_data"
    }
   ],
   "source": [
    "base = arcs.plot(linewidth=3, alpha=0.25, color=\"k\", zorder=0, figsize=(10, 10))\n",
    "vertices.plot(ax=base, markersize=2, color=\"red\", zorder=1)\n",
    "all_crimes.plot(ax=base, markersize=5, color=\"k\", zorder=2)\n",
    "crimes_scenes.plot(ax=base, markersize=100, alpha=0.25, color=\"blue\", zorder=2)"
   ]
  },
  {
   "cell_type": "markdown",
   "metadata": {},
   "source": [
    "#### Associate Detective Königsberg's cases with the network and plot"
   ]
  },
  {
   "cell_type": "code",
   "execution_count": 9,
   "metadata": {
    "ExecuteTime": {
     "end_time": "2020-01-25T22:07:57.479752Z",
     "start_time": "2020-01-25T22:07:57.432432Z"
    }
   },
   "outputs": [],
   "source": [
    "ntw.snapobservations(crimes_scenes, \"crime_scenes\")\n",
    "pp_obs = spaghetti.element_as_gdf(ntw, pp_name=\"crime_scenes\")\n",
    "pp_obs_snapped = spaghetti.element_as_gdf(ntw, pp_name=\"crime_scenes\", snapped=True)"
   ]
  },
  {
   "cell_type": "code",
   "execution_count": 10,
   "metadata": {
    "ExecuteTime": {
     "end_time": "2020-01-25T22:07:57.968145Z",
     "start_time": "2020-01-25T22:07:57.482697Z"
    }
   },
   "outputs": [
    {
     "data": {
      "text/plain": [
       "<matplotlib.axes._subplots.AxesSubplot at 0x10a2227b8>"
      ]
     },
     "execution_count": 10,
     "metadata": {},
     "output_type": "execute_result"
    },
    {
     "data": {
      "image/png": "[encoded data removed]",
      "text/plain": [
       "<Figure size 720x720 with 1 Axes>"
      ]
     },
     "metadata": {
      "needs_background": "light"
     },
     "output_type": "display_data"
    }
   ],
   "source": [
    "base = arcs.plot(linewidth=3, alpha=0.25, color=\"k\", zorder=0, figsize=(10, 10))\n",
    "vertices.plot(ax=base, markersize=5, color=\"r\", zorder=1)\n",
    "pp_obs.plot(ax=base, markersize=20, color=\"k\", zorder=2)\n",
    "pp_obs_snapped.plot(ax=base, markersize=20, marker=\"x\", color=\"k\", zorder=2)"
   ]
  },
  {
   "cell_type": "markdown",
   "metadata": {},
   "source": [
    "#### Calculate distance matrix while generating shortest path trees"
   ]
  },
  {
   "cell_type": "code",
   "execution_count": 11,
   "metadata": {
    "ExecuteTime": {
     "end_time": "2020-01-25T22:07:58.956237Z",
     "start_time": "2020-01-25T22:07:57.986814Z"
    }
   },
   "outputs": [
    {
     "data": {
      "text/plain": [
       "array([[          nan,  877.47164862, 1012.61083447],\n",
       "       [ 877.47164862,           nan,  688.1148453 ],\n",
       "       [1012.61083447,  688.1148453 ,           nan]])"
      ]
     },
     "execution_count": 11,
     "metadata": {},
     "output_type": "execute_result"
    }
   ],
   "source": [
    "d2d_dist, tree = ntw.allneighbordistances(\"crime_scenes\", gen_tree=True)\n",
    "d2d_dist[:3, :3]"
   ]
  },
  {
   "cell_type": "code",
   "execution_count": 12,
   "metadata": {
    "ExecuteTime": {
     "end_time": "2020-01-25T22:07:58.999935Z",
     "start_time": "2020-01-25T22:07:58.972507Z"
    }
   },
   "outputs": [
    {
     "data": {
      "text/plain": [
       "([((0, 1), (164, 158)),\n",
       "  ((0, 2), (164, 142)),\n",
       "  ((0, 3), (164, 197)),\n",
       "  ((0, 4), (164, 147))],\n",
       " [((10, 13), (72, 98)),\n",
       "  ((11, 12), (26, 29)),\n",
       "  ((11, 13), (26, 85)),\n",
       "  ((12, 13), (30, 85))])"
      ]
     },
     "execution_count": 12,
     "metadata": {},
     "output_type": "execute_result"
    }
   ],
   "source": [
    "list(tree.items())[:4], list(tree.items())[-4:]"
   ]
  },
  {
   "cell_type": "markdown",
   "metadata": {},
   "source": [
    "--------------------------------\n",
    "### 3. The Travling Salesperson Problem\n",
    "#### Create decision variables for the crime scene locations"
   ]
  },
  {
   "cell_type": "code",
   "execution_count": 13,
   "metadata": {
    "ExecuteTime": {
     "end_time": "2020-01-25T22:07:59.038333Z",
     "start_time": "2020-01-25T22:07:59.005925Z"
    }
   },
   "outputs": [
    {
     "data": {
      "text/html": [
       "<div>\n",
       "<style scoped>\n",
       "    .dataframe tbody tr th:only-of-type {\n",
       "        vertical-align: middle;\n",
       "    }\n",
       "\n",
       "    .dataframe tbody tr th {\n",
       "        vertical-align: top;\n",
       "    }\n",
       "\n",
       "    .dataframe thead th {\n",
       "        text-align: right;\n",
       "    }\n",
       "</style>\n",
       "<table border=\"1\" class=\"dataframe\">\n",
       "  <thead>\n",
       "    <tr style=\"text-align: right;\">\n",
       "      <th></th>\n",
       "      <th>id</th>\n",
       "      <th>geometry</th>\n",
       "      <th>dv</th>\n",
       "    </tr>\n",
       "  </thead>\n",
       "  <tbody>\n",
       "    <tr>\n",
       "      <th>0</th>\n",
       "      <td>0</td>\n",
       "      <td>POINT (221651.779 266962.433)</td>\n",
       "      <td>x_0</td>\n",
       "    </tr>\n",
       "    <tr>\n",
       "      <th>1</th>\n",
       "      <td>1</td>\n",
       "      <td>POINT (220774.565 266967.614)</td>\n",
       "      <td>x_1</td>\n",
       "    </tr>\n",
       "    <tr>\n",
       "      <th>2</th>\n",
       "      <td>2</td>\n",
       "      <td>POINT (220962.017 267280.644)</td>\n",
       "      <td>x_2</td>\n",
       "    </tr>\n",
       "    <tr>\n",
       "      <th>3</th>\n",
       "      <td>3</td>\n",
       "      <td>POINT (220772.431 267386.410)</td>\n",
       "      <td>x_3</td>\n",
       "    </tr>\n",
       "    <tr>\n",
       "      <th>4</th>\n",
       "      <td>4</td>\n",
       "      <td>POINT (220796.815 267545.820)</td>\n",
       "      <td>x_4</td>\n",
       "    </tr>\n",
       "    <tr>\n",
       "      <th>5</th>\n",
       "      <td>5</td>\n",
       "      <td>POINT (221500.903 267697.915)</td>\n",
       "      <td>x_5</td>\n",
       "    </tr>\n",
       "    <tr>\n",
       "      <th>6</th>\n",
       "      <td>6</td>\n",
       "      <td>POINT (220474.032 267730.529)</td>\n",
       "      <td>x_6</td>\n",
       "    </tr>\n",
       "    <tr>\n",
       "      <th>7</th>\n",
       "      <td>7</td>\n",
       "      <td>POINT (221677.382 267761.314)</td>\n",
       "      <td>x_7</td>\n",
       "    </tr>\n",
       "    <tr>\n",
       "      <th>8</th>\n",
       "      <td>8</td>\n",
       "      <td>POINT (221154.041 267919.810)</td>\n",
       "      <td>x_8</td>\n",
       "    </tr>\n",
       "    <tr>\n",
       "      <th>9</th>\n",
       "      <td>9</td>\n",
       "      <td>POINT (221852.947 268049.045)</td>\n",
       "      <td>x_9</td>\n",
       "    </tr>\n",
       "    <tr>\n",
       "      <th>10</th>\n",
       "      <td>10</td>\n",
       "      <td>POINT (220775.174 268149.629)</td>\n",
       "      <td>x_10</td>\n",
       "    </tr>\n",
       "    <tr>\n",
       "      <th>11</th>\n",
       "      <td>11</td>\n",
       "      <td>POINT (220472.813 268197.482)</td>\n",
       "      <td>x_11</td>\n",
       "    </tr>\n",
       "    <tr>\n",
       "      <th>12</th>\n",
       "      <td>12</td>\n",
       "      <td>POINT (220514.875 268478.203)</td>\n",
       "      <td>x_12</td>\n",
       "    </tr>\n",
       "    <tr>\n",
       "      <th>13</th>\n",
       "      <td>13</td>\n",
       "      <td>POINT (222083.681 268590.979)</td>\n",
       "      <td>x_13</td>\n",
       "    </tr>\n",
       "  </tbody>\n",
       "</table>\n",
       "</div>"
      ],
      "text/plain": [
       "    id                       geometry    dv\n",
       "0    0  POINT (221651.779 266962.433)   x_0\n",
       "1    1  POINT (220774.565 266967.614)   x_1\n",
       "2    2  POINT (220962.017 267280.644)   x_2\n",
       "3    3  POINT (220772.431 267386.410)   x_3\n",
       "4    4  POINT (220796.815 267545.820)   x_4\n",
       "5    5  POINT (221500.903 267697.915)   x_5\n",
       "6    6  POINT (220474.032 267730.529)   x_6\n",
       "7    7  POINT (221677.382 267761.314)   x_7\n",
       "8    8  POINT (221154.041 267919.810)   x_8\n",
       "9    9  POINT (221852.947 268049.045)   x_9\n",
       "10  10  POINT (220775.174 268149.629)  x_10\n",
       "11  11  POINT (220472.813 268197.482)  x_11\n",
       "12  12  POINT (220514.875 268478.203)  x_12\n",
       "13  13  POINT (222083.681 268590.979)  x_13"
      ]
     },
     "execution_count": 13,
     "metadata": {},
     "output_type": "execute_result"
    }
   ],
   "source": [
    "pp_obs[\"dv\"] = pp_obs[\"id\"].apply(lambda _id: \"x_%s\" % _id)\n",
    "pp_obs"
   ]
  },
  {
   "cell_type": "markdown",
   "metadata": {},
   "source": [
    "#### Solve the TSP"
   ]
  },
  {
   "cell_type": "code",
   "execution_count": 14,
   "metadata": {
    "ExecuteTime": {
     "end_time": "2020-01-25T22:07:59.912857Z",
     "start_time": "2020-01-25T22:07:59.050527Z"
    }
   },
   "outputs": [
    {
     "name": "stdout",
     "output_type": "stream",
     "text": [
      "x_0,1: 1.0\n",
      "x_1,2: 1.0\n",
      "x_10,8: 1.0\n",
      "x_11,12: 1.0\n",
      "x_12,10: 1.0\n",
      "x_13,7: 1.0\n",
      "x_2,3: 1.0\n",
      "x_3,4: 1.0\n",
      "x_4,6: 1.0\n",
      "x_5,0: 1.0\n",
      "x_6,11: 1.0\n",
      "x_7,5: 1.0\n",
      "x_8,9: 1.0\n",
      "x_9,13: 1.0\n",
      "Status: Optimal\n"
     ]
    }
   ],
   "source": [
    "mtz_tsp = MTZ_TSP(pp_obs[\"dv\"], d2d_dist)"
   ]
  },
  {
   "cell_type": "markdown",
   "metadata": {},
   "source": [
    "####  Extract all network shortest paths"
   ]
  },
  {
   "cell_type": "code",
   "execution_count": 15,
   "metadata": {
    "ExecuteTime": {
     "end_time": "2020-01-25T22:07:59.959975Z",
     "start_time": "2020-01-25T22:07:59.922719Z"
    }
   },
   "outputs": [
    {
     "data": {
      "text/html": [
       "<div>\n",
       "<style scoped>\n",
       "    .dataframe tbody tr th:only-of-type {\n",
       "        vertical-align: middle;\n",
       "    }\n",
       "\n",
       "    .dataframe tbody tr th {\n",
       "        vertical-align: top;\n",
       "    }\n",
       "\n",
       "    .dataframe thead th {\n",
       "        text-align: right;\n",
       "    }\n",
       "</style>\n",
       "<table border=\"1\" class=\"dataframe\">\n",
       "  <thead>\n",
       "    <tr style=\"text-align: right;\">\n",
       "      <th></th>\n",
       "      <th>id</th>\n",
       "      <th>geometry</th>\n",
       "    </tr>\n",
       "  </thead>\n",
       "  <tbody>\n",
       "    <tr>\n",
       "      <th>0</th>\n",
       "      <td>(0, 1)</td>\n",
       "      <td>LINESTRING (221652.388 266992.490, 221523.237 ...</td>\n",
       "    </tr>\n",
       "    <tr>\n",
       "      <th>1</th>\n",
       "      <td>(0, 2)</td>\n",
       "      <td>LINESTRING (221652.388 266992.490, 221523.237 ...</td>\n",
       "    </tr>\n",
       "    <tr>\n",
       "      <th>2</th>\n",
       "      <td>(0, 3)</td>\n",
       "      <td>LINESTRING (221652.388 266992.490, 221523.237 ...</td>\n",
       "    </tr>\n",
       "    <tr>\n",
       "      <th>3</th>\n",
       "      <td>(0, 4)</td>\n",
       "      <td>LINESTRING (221652.388 266992.490, 221523.237 ...</td>\n",
       "    </tr>\n",
       "    <tr>\n",
       "      <th>4</th>\n",
       "      <td>(0, 5)</td>\n",
       "      <td>LINESTRING (221652.388 266992.490, 221523.237 ...</td>\n",
       "    </tr>\n",
       "  </tbody>\n",
       "</table>\n",
       "</div>"
      ],
      "text/plain": [
       "       id                                           geometry\n",
       "0  (0, 1)  LINESTRING (221652.388 266992.490, 221523.237 ...\n",
       "1  (0, 2)  LINESTRING (221652.388 266992.490, 221523.237 ...\n",
       "2  (0, 3)  LINESTRING (221652.388 266992.490, 221523.237 ...\n",
       "3  (0, 4)  LINESTRING (221652.388 266992.490, 221523.237 ...\n",
       "4  (0, 5)  LINESTRING (221652.388 266992.490, 221523.237 ..."
      ]
     },
     "execution_count": 15,
     "metadata": {},
     "output_type": "execute_result"
    }
   ],
   "source": [
    "paths = ntw.shortest_paths(tree, \"crime_scenes\")\n",
    "paths_gdf = spaghetti.element_as_gdf(ntw, routes=paths)\n",
    "paths_gdf.head()"
   ]
  },
  {
   "cell_type": "markdown",
   "metadata": {},
   "source": [
    "####  Extract the tour"
   ]
  },
  {
   "cell_type": "code",
   "execution_count": 16,
   "metadata": {
    "ExecuteTime": {
     "end_time": "2020-01-25T22:08:00.037101Z",
     "start_time": "2020-01-25T22:07:59.965609Z"
    }
   },
   "outputs": [
    {
     "data": {
      "text/html": [
       "<div>\n",
       "<style scoped>\n",
       "    .dataframe tbody tr th:only-of-type {\n",
       "        vertical-align: middle;\n",
       "    }\n",
       "\n",
       "    .dataframe tbody tr th {\n",
       "        vertical-align: top;\n",
       "    }\n",
       "\n",
       "    .dataframe thead th {\n",
       "        text-align: right;\n",
       "    }\n",
       "</style>\n",
       "<table border=\"1\" class=\"dataframe\">\n",
       "  <thead>\n",
       "    <tr style=\"text-align: right;\">\n",
       "      <th></th>\n",
       "      <th>id</th>\n",
       "      <th>geometry</th>\n",
       "      <th>leg</th>\n",
       "    </tr>\n",
       "  </thead>\n",
       "  <tbody>\n",
       "    <tr>\n",
       "      <th>0</th>\n",
       "      <td>(0, 1)</td>\n",
       "      <td>LINESTRING (221652.388 266992.490, 221523.237 ...</td>\n",
       "      <td>0</td>\n",
       "    </tr>\n",
       "    <tr>\n",
       "      <th>13</th>\n",
       "      <td>(1, 2)</td>\n",
       "      <td>LINESTRING (220775.021 267000.303, 220807.418 ...</td>\n",
       "      <td>1</td>\n",
       "    </tr>\n",
       "    <tr>\n",
       "      <th>25</th>\n",
       "      <td>(2, 3)</td>\n",
       "      <td>LINESTRING (220961.989 267315.817, 220853.037 ...</td>\n",
       "      <td>2</td>\n",
       "    </tr>\n",
       "    <tr>\n",
       "      <th>36</th>\n",
       "      <td>(3, 4)</td>\n",
       "      <td>LINESTRING (220807.120 267386.436, 220806.992 ...</td>\n",
       "      <td>3</td>\n",
       "    </tr>\n",
       "    <tr>\n",
       "      <th>47</th>\n",
       "      <td>(4, 6)</td>\n",
       "      <td>LINESTRING (220796.691 267553.295, 220695.386 ...</td>\n",
       "      <td>4</td>\n",
       "    </tr>\n",
       "  </tbody>\n",
       "</table>\n",
       "</div>"
      ],
      "text/plain": [
       "        id                                           geometry leg\n",
       "0   (0, 1)  LINESTRING (221652.388 266992.490, 221523.237 ...   0\n",
       "13  (1, 2)  LINESTRING (220775.021 267000.303, 220807.418 ...   1\n",
       "25  (2, 3)  LINESTRING (220961.989 267315.817, 220853.037 ...   2\n",
       "36  (3, 4)  LINESTRING (220807.120 267386.436, 220806.992 ...   3\n",
       "47  (4, 6)  LINESTRING (220796.691 267553.295, 220695.386 ...   4"
      ]
     },
     "execution_count": 16,
     "metadata": {},
     "output_type": "execute_result"
    }
   ],
   "source": [
    "tour = mtz_tsp.extract_tour(paths_gdf, \"id\")\n",
    "tour.head()"
   ]
  },
  {
   "cell_type": "markdown",
   "metadata": {},
   "source": [
    "#### Define label helper functions and plot Det. Königsberg's optimal tour"
   ]
  },
  {
   "cell_type": "code",
   "execution_count": 17,
   "metadata": {
    "ExecuteTime": {
     "end_time": "2020-01-25T22:08:00.063174Z",
     "start_time": "2020-01-25T22:08:00.049858Z"
    }
   },
   "outputs": [],
   "source": [
    "def tour_labels(t, b):\n",
    "    \"\"\"Label each leg of the tour.\"\"\"\n",
    "\n",
    "    def _lab_loc(_x):\n",
    "        \"\"\"Helper for labeling location.\"\"\"\n",
    "        return _x.geometry.interpolate(0.5, normalized=True).coords[0]\n",
    "\n",
    "    kws = {\"size\": 20, \"ha\": \"center\", \"va\": \"bottom\", \"weight\": \"bold\"}\n",
    "    t.apply(lambda x: b.annotate(s=x.leg, xy=_lab_loc(x), **kws), axis=1)\n",
    "\n",
    "\n",
    "def obs_labels(o, b):\n",
    "    \"\"\"Label each point pattern observation.\"\"\"\n",
    "\n",
    "    def _lab_loc(_x):\n",
    "        \"\"\"Helper for labeling observations.\"\"\"\n",
    "        return _x.geometry.coords[0]\n",
    "\n",
    "    kws = {\"size\": 14, \"ha\": \"left\", \"va\": \"bottom\", \"style\": \"oblique\", \"color\": \"k\"}\n",
    "    o.apply(lambda x: b.annotate(s=x.id, xy=_lab_loc(x), **kws), axis=1)"
   ]
  },
  {
   "cell_type": "code",
   "execution_count": 18,
   "metadata": {
    "ExecuteTime": {
     "end_time": "2020-01-25T22:08:00.711929Z",
     "start_time": "2020-01-25T22:08:00.065658Z"
    }
   },
   "outputs": [
    {
     "data": {
      "image/png": "[encoded data removed]",
      "text/plain": [
       "<Figure size 720x720 with 1 Axes>"
      ]
     },
     "metadata": {
      "needs_background": "light"
     },
     "output_type": "display_data"
    }
   ],
   "source": [
    "base = arcs.plot(alpha=0.2, linewidth=1, color=\"k\", figsize=(10, 10), zorder=0)\n",
    "tour.plot(ax=base, column=\"id\", cmap=\"tab20\", alpha=0.50, linewidth=10, zorder=1)\n",
    "vertices.plot(ax=base, markersize=1, color=\"r\", zorder=2)\n",
    "pp_obs.plot(ax=base, markersize=20, color=\"k\", zorder=3)\n",
    "pp_obs_snapped.plot(ax=base, markersize=20, color=\"k\", marker=\"x\", zorder=2)\n",
    "# tour leg labels\n",
    "tour_labels(tour, base)\n",
    "# crime scene labels\n",
    "obs_labels(pp_obs, base)"
   ]
  },
  {
   "cell_type": "markdown",
   "metadata": {},
   "source": [
    "----------------------"
   ]
  }
 ],
 "metadata": {
  "hide_input": false,
  "kernelspec": {
   "display_name": "Python [conda env:py3_spgh_dev]",
   "language": "python",
   "name": "conda-env-py3_spgh_dev-py"
  },
  "language_info": {
   "codemirror_mode": {
    "name": "ipython",
    "version": 3
   },
   "file_extension": ".py",
   "mimetype": "text/x-python",
   "name": "python",
   "nbconvert_exporter": "python",
   "pygments_lexer": "ipython3",
   "version": "3.7.3"
  },
  "latex_envs": {
   "LaTeX_envs_menu_present": true,
   "autocomplete": true,
   "bibliofile": "biblio.bib",
   "cite_by": "apalike",
   "current_citInitial": 1,
   "eqLabelWithNumbers": true,
   "eqNumInitial": 1,
   "hotkeys": {
    "equation": "Ctrl-E",
    "itemize": "Ctrl-I"
   },
   "labels_anchors": false,
   "latex_user_defs": false,
   "report_style_numbering": false,
   "user_envs_cfg": false
  }
 },
 "nbformat": 4,
 "nbformat_minor": 2
}
